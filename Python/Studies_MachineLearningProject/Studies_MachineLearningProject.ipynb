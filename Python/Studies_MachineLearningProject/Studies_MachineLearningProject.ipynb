{
  "nbformat": 4,
  "nbformat_minor": 0,
  "metadata": {
    "colab": {
      "provenance": []
    },
    "kernelspec": {
      "name": "python3",
      "display_name": "Python 3"
    },
    "language_info": {
      "name": "python"
    }
  },
  "cells": [
    {
      "cell_type": "markdown",
      "source": [
        "**Problem**: predict, whether breast cancer is benign or malignant\n",
        "\n",
        "\n",
        "**Data**: nodules information in the form of a CSV file with a 'Class' column containing the assignment to one of two groups.\n",
        "\n",
        "*Data comes from UCI Machine Learning Repository*"
      ],
      "metadata": {
        "id": "_yhU2PSOh_Hc"
      }
    },
    {
      "cell_type": "code",
      "source": [
        "import os\n",
        "import pandas as pd\n",
        "\n",
        "path = \"/content/drive/MyDrive/Projekt_Python_Studia/breast-cancer-wisconsin.csv\"\n"
      ],
      "metadata": {
        "id": "HO09H-ykjDWV"
      },
      "execution_count": null,
      "outputs": []
    },
    {
      "cell_type": "code",
      "source": [
        "# data consists of unfilled fields marked as '?' - these rows will be deleted\n",
        "\n",
        "columns = ['Id', 'ClumpThickness', 'UniformityOfCellSize', 'UniformityOfCellShape', 'Marginal Adhesion', 'SingleEpithelialCellSize', 'BareNuclei', 'BlandChromatin', 'NormalNucleoli', 'Mitoses', 'Class']\n",
        "\n",
        "dane = pd.read_csv(path, names=columns, na_values='?')\n",
        "\n",
        "dane_bezna = dane.dropna(axis=0)\n",
        "\n",
        "print(dane_bezna)"
      ],
      "metadata": {
        "colab": {
          "base_uri": "https://localhost:8080/"
        },
        "id": "h7tVS8t0jBV1",
        "outputId": "04b2dfdf-d11d-49fc-9afb-deab99bde5fd"
      },
      "execution_count": null,
      "outputs": [
        {
          "output_type": "stream",
          "name": "stdout",
          "text": [
            "          Id  ClumpThickness  UniformityOfCellSize  UniformityOfCellShape  \\\n",
            "0    1000025               5                     1                      1   \n",
            "1    1002945               5                     4                      4   \n",
            "2    1015425               3                     1                      1   \n",
            "3    1016277               6                     8                      8   \n",
            "4    1017023               4                     1                      1   \n",
            "..       ...             ...                   ...                    ...   \n",
            "694   776715               3                     1                      1   \n",
            "695   841769               2                     1                      1   \n",
            "696   888820               5                    10                     10   \n",
            "697   897471               4                     8                      6   \n",
            "698   897471               4                     8                      8   \n",
            "\n",
            "     Marginal Adhesion  SingleEpithelialCellSize  BareNuclei  BlandChromatin  \\\n",
            "0                    1                         2         1.0               3   \n",
            "1                    5                         7        10.0               3   \n",
            "2                    1                         2         2.0               3   \n",
            "3                    1                         3         4.0               3   \n",
            "4                    3                         2         1.0               3   \n",
            "..                 ...                       ...         ...             ...   \n",
            "694                  1                         3         2.0               1   \n",
            "695                  1                         2         1.0               1   \n",
            "696                  3                         7         3.0               8   \n",
            "697                  4                         3         4.0              10   \n",
            "698                  5                         4         5.0              10   \n",
            "\n",
            "     NormalNucleoli  Mitoses  Class  \n",
            "0                 1        1      2  \n",
            "1                 2        1      2  \n",
            "2                 1        1      2  \n",
            "3                 7        1      2  \n",
            "4                 1        1      2  \n",
            "..              ...      ...    ...  \n",
            "694               1        1      2  \n",
            "695               1        1      2  \n",
            "696              10        2      4  \n",
            "697               6        1      4  \n",
            "698               4        1      4  \n",
            "\n",
            "[683 rows x 11 columns]\n"
          ]
        }
      ]
    },
    {
      "cell_type": "code",
      "source": [
        "# mark the column with classes and columns with attributes\n",
        "\n",
        "y = dane_bezna.Class # class 2 means the lesion is benign, 4 - malignant\n",
        "\n",
        "attributes = ['ClumpThickness', 'UniformityOfCellSize', 'UniformityOfCellShape', 'Marginal Adhesion', 'SingleEpithelialCellSize', 'BareNuclei', 'BlandChromatin', 'NormalNucleoli', 'Mitoses']\n",
        "\n",
        "X = dane_bezna[attributes]"
      ],
      "metadata": {
        "id": "C1ugHVDIjz2U"
      },
      "execution_count": null,
      "outputs": []
    },
    {
      "cell_type": "code",
      "source": [
        "from sklearn import tree\n",
        "\n",
        "clf = tree.DecisionTreeClassifier(max_depth=5)\n",
        "\n",
        "from sklearn.model_selection import train_test_split\n",
        "\n",
        "train_X, val_X, train_y, val_y = train_test_split(X,y,train_size=0.6)\n",
        "\n",
        "clf.fit(train_X, train_y)\n",
        "\n",
        "y_pred = clf.predict(val_X)\n",
        "\n",
        "from sklearn.metrics import confusion_matrix\n",
        "\n",
        "cm = confusion_matrix(val_y,y_pred)\n",
        "print(cm)"
      ],
      "metadata": {
        "colab": {
          "base_uri": "https://localhost:8080/"
        },
        "id": "XmywDgyJv27t",
        "outputId": "8455a7df-e558-456b-80f5-e5bde28536a4"
      },
      "execution_count": null,
      "outputs": [
        {
          "output_type": "stream",
          "name": "stdout",
          "text": [
            "[[172   8]\n",
            " [  3  91]]\n"
          ]
        }
      ]
    },
    {
      "cell_type": "code",
      "source": [
        "# prepare report for decision tree classifier\n",
        "\n",
        "from sklearn.metrics import classification_report\n",
        "\n",
        "report = classification_report(val_y,y_pred)\n",
        "print(report)"
      ],
      "metadata": {
        "colab": {
          "base_uri": "https://localhost:8080/"
        },
        "id": "XmHvDMXCyqjF",
        "outputId": "62f3e282-69b9-4d5a-b62f-ef3e9f4aa4e0"
      },
      "execution_count": null,
      "outputs": [
        {
          "output_type": "stream",
          "name": "stdout",
          "text": [
            "              precision    recall  f1-score   support\n",
            "\n",
            "           2       0.97      0.97      0.97       178\n",
            "           4       0.95      0.95      0.95        96\n",
            "\n",
            "    accuracy                           0.96       274\n",
            "   macro avg       0.96      0.96      0.96       274\n",
            "weighted avg       0.96      0.96      0.96       274\n",
            "\n"
          ]
        }
      ]
    },
    {
      "cell_type": "code",
      "source": [
        "# validate few algorithms to choose the best one\n",
        "\n",
        "from sklearn.ensemble import RandomForestClassifier\n",
        "from sklearn.ensemble import AdaBoostClassifier\n",
        "\n",
        "train_X, val_X, train_y, val_y = train_test_split(X,y,train_size=0.6, random_state=1)\n",
        "\n",
        "\n",
        "clf = {\n",
        "    'tree5' : tree.DecisionTreeClassifier(max_depth=5),\n",
        "    'RF'    : RandomForestClassifier(),\n",
        "    'RF10'  : RandomForestClassifier(10),\n",
        "    'AB'    : AdaBoostClassifier()\n",
        "}\n",
        "\n",
        "\n",
        "for name in clf:\n",
        "    clf[name].fit(train_X, train_y)\n",
        "    y_pred = clf[name].predict(val_X)\n",
        "\n",
        "    report = classification_report(val_y,y_pred)\n",
        "    print(\"*\"*10)\n",
        "    print(name)\n",
        "    print(\"*\"*10)\n",
        "    print(report)\n"
      ],
      "metadata": {
        "colab": {
          "base_uri": "https://localhost:8080/"
        },
        "id": "41rGd5sGy8Pj",
        "outputId": "2d710a39-6d99-4349-e304-e3e3ef72fad2"
      },
      "execution_count": null,
      "outputs": [
        {
          "output_type": "stream",
          "name": "stdout",
          "text": [
            "**********\n",
            "tree5\n",
            "**********\n",
            "              precision    recall  f1-score   support\n",
            "\n",
            "           2       0.96      0.97      0.96       178\n",
            "           4       0.95      0.92      0.93        96\n",
            "\n",
            "    accuracy                           0.95       274\n",
            "   macro avg       0.95      0.94      0.95       274\n",
            "weighted avg       0.95      0.95      0.95       274\n",
            "\n",
            "**********\n",
            "RF\n",
            "**********\n",
            "              precision    recall  f1-score   support\n",
            "\n",
            "           2       0.98      0.98      0.98       178\n",
            "           4       0.96      0.97      0.96        96\n",
            "\n",
            "    accuracy                           0.97       274\n",
            "   macro avg       0.97      0.97      0.97       274\n",
            "weighted avg       0.97      0.97      0.97       274\n",
            "\n",
            "**********\n",
            "RF10\n",
            "**********\n",
            "              precision    recall  f1-score   support\n",
            "\n",
            "           2       0.98      0.98      0.98       178\n",
            "           4       0.96      0.97      0.96        96\n",
            "\n",
            "    accuracy                           0.97       274\n",
            "   macro avg       0.97      0.97      0.97       274\n",
            "weighted avg       0.97      0.97      0.97       274\n",
            "\n",
            "**********\n",
            "AB\n",
            "**********\n",
            "              precision    recall  f1-score   support\n",
            "\n",
            "           2       0.97      0.97      0.97       178\n",
            "           4       0.95      0.95      0.95        96\n",
            "\n",
            "    accuracy                           0.96       274\n",
            "   macro avg       0.96      0.96      0.96       274\n",
            "weighted avg       0.96      0.96      0.96       274\n",
            "\n"
          ]
        }
      ]
    },
    {
      "cell_type": "code",
      "source": [
        "# The best results were achieved with Random Forest Classifier\n",
        "# train on the whole data\n",
        "\n",
        "clf = RandomForestClassifier()\n",
        "clf.fit(X,y)"
      ],
      "metadata": {
        "colab": {
          "base_uri": "https://localhost:8080/",
          "height": 74
        },
        "id": "XIgiq3Uf01GX",
        "outputId": "1ab52ea7-55f9-4c60-a2d2-739da7eb89a9"
      },
      "execution_count": null,
      "outputs": [
        {
          "output_type": "execute_result",
          "data": {
            "text/plain": [
              "RandomForestClassifier()"
            ],
            "text/html": [
              "<style>#sk-container-id-4 {color: black;background-color: white;}#sk-container-id-4 pre{padding: 0;}#sk-container-id-4 div.sk-toggleable {background-color: white;}#sk-container-id-4 label.sk-toggleable__label {cursor: pointer;display: block;width: 100%;margin-bottom: 0;padding: 0.3em;box-sizing: border-box;text-align: center;}#sk-container-id-4 label.sk-toggleable__label-arrow:before {content: \"▸\";float: left;margin-right: 0.25em;color: #696969;}#sk-container-id-4 label.sk-toggleable__label-arrow:hover:before {color: black;}#sk-container-id-4 div.sk-estimator:hover label.sk-toggleable__label-arrow:before {color: black;}#sk-container-id-4 div.sk-toggleable__content {max-height: 0;max-width: 0;overflow: hidden;text-align: left;background-color: #f0f8ff;}#sk-container-id-4 div.sk-toggleable__content pre {margin: 0.2em;color: black;border-radius: 0.25em;background-color: #f0f8ff;}#sk-container-id-4 input.sk-toggleable__control:checked~div.sk-toggleable__content {max-height: 200px;max-width: 100%;overflow: auto;}#sk-container-id-4 input.sk-toggleable__control:checked~label.sk-toggleable__label-arrow:before {content: \"▾\";}#sk-container-id-4 div.sk-estimator input.sk-toggleable__control:checked~label.sk-toggleable__label {background-color: #d4ebff;}#sk-container-id-4 div.sk-label input.sk-toggleable__control:checked~label.sk-toggleable__label {background-color: #d4ebff;}#sk-container-id-4 input.sk-hidden--visually {border: 0;clip: rect(1px 1px 1px 1px);clip: rect(1px, 1px, 1px, 1px);height: 1px;margin: -1px;overflow: hidden;padding: 0;position: absolute;width: 1px;}#sk-container-id-4 div.sk-estimator {font-family: monospace;background-color: #f0f8ff;border: 1px dotted black;border-radius: 0.25em;box-sizing: border-box;margin-bottom: 0.5em;}#sk-container-id-4 div.sk-estimator:hover {background-color: #d4ebff;}#sk-container-id-4 div.sk-parallel-item::after {content: \"\";width: 100%;border-bottom: 1px solid gray;flex-grow: 1;}#sk-container-id-4 div.sk-label:hover label.sk-toggleable__label {background-color: #d4ebff;}#sk-container-id-4 div.sk-serial::before {content: \"\";position: absolute;border-left: 1px solid gray;box-sizing: border-box;top: 0;bottom: 0;left: 50%;z-index: 0;}#sk-container-id-4 div.sk-serial {display: flex;flex-direction: column;align-items: center;background-color: white;padding-right: 0.2em;padding-left: 0.2em;position: relative;}#sk-container-id-4 div.sk-item {position: relative;z-index: 1;}#sk-container-id-4 div.sk-parallel {display: flex;align-items: stretch;justify-content: center;background-color: white;position: relative;}#sk-container-id-4 div.sk-item::before, #sk-container-id-4 div.sk-parallel-item::before {content: \"\";position: absolute;border-left: 1px solid gray;box-sizing: border-box;top: 0;bottom: 0;left: 50%;z-index: -1;}#sk-container-id-4 div.sk-parallel-item {display: flex;flex-direction: column;z-index: 1;position: relative;background-color: white;}#sk-container-id-4 div.sk-parallel-item:first-child::after {align-self: flex-end;width: 50%;}#sk-container-id-4 div.sk-parallel-item:last-child::after {align-self: flex-start;width: 50%;}#sk-container-id-4 div.sk-parallel-item:only-child::after {width: 0;}#sk-container-id-4 div.sk-dashed-wrapped {border: 1px dashed gray;margin: 0 0.4em 0.5em 0.4em;box-sizing: border-box;padding-bottom: 0.4em;background-color: white;}#sk-container-id-4 div.sk-label label {font-family: monospace;font-weight: bold;display: inline-block;line-height: 1.2em;}#sk-container-id-4 div.sk-label-container {text-align: center;}#sk-container-id-4 div.sk-container {/* jupyter's `normalize.less` sets `[hidden] { display: none; }` but bootstrap.min.css set `[hidden] { display: none !important; }` so we also need the `!important` here to be able to override the default hidden behavior on the sphinx rendered scikit-learn.org. See: https://github.com/scikit-learn/scikit-learn/issues/21755 */display: inline-block !important;position: relative;}#sk-container-id-4 div.sk-text-repr-fallback {display: none;}</style><div id=\"sk-container-id-4\" class=\"sk-top-container\"><div class=\"sk-text-repr-fallback\"><pre>RandomForestClassifier()</pre><b>In a Jupyter environment, please rerun this cell to show the HTML representation or trust the notebook. <br />On GitHub, the HTML representation is unable to render, please try loading this page with nbviewer.org.</b></div><div class=\"sk-container\" hidden><div class=\"sk-item\"><div class=\"sk-estimator sk-toggleable\"><input class=\"sk-toggleable__control sk-hidden--visually\" id=\"sk-estimator-id-4\" type=\"checkbox\" checked><label for=\"sk-estimator-id-4\" class=\"sk-toggleable__label sk-toggleable__label-arrow\">RandomForestClassifier</label><div class=\"sk-toggleable__content\"><pre>RandomForestClassifier()</pre></div></div></div></div></div>"
            ]
          },
          "metadata": {},
          "execution_count": 55
        }
      ]
    },
    {
      "cell_type": "code",
      "source": [
        "# check cross validation score\n",
        "\n",
        "from sklearn.model_selection import cross_val_score\n",
        "clf = RandomForestClassifier()\n",
        "\n",
        "result = cross_val_score(clf,X,y, cv = None)\n",
        "\n",
        "print(result, sum(result)/len(result))"
      ],
      "metadata": {
        "colab": {
          "base_uri": "https://localhost:8080/"
        },
        "id": "5OskJ2zM1J-K",
        "outputId": "7b73b315-1d45-4ecf-ad2d-5fbc6f914431"
      },
      "execution_count": null,
      "outputs": [
        {
          "output_type": "stream",
          "name": "stdout",
          "text": [
            "[0.9270073  0.94890511 0.97810219 0.98529412 0.98529412] 0.9649205667668527\n"
          ]
        }
      ]
    },
    {
      "cell_type": "code",
      "source": [
        "import matplotlib.pyplot as plt"
      ],
      "metadata": {
        "id": "21OWvXtl9sdF"
      },
      "execution_count": null,
      "outputs": []
    },
    {
      "cell_type": "code",
      "source": [
        "# for Random Forest Classifier visualize how predicted values match the actual ones\n",
        "\n",
        "clf = RandomForestClassifier()\n",
        "\n",
        "train_X, val_X, train_y, val_y = train_test_split(X,y,train_size=0.6,  random_state=1)\n",
        "\n",
        "clf.fit(train_X, train_y)\n",
        "\n",
        "y_pred = clf.predict(val_X)\n",
        "\n",
        "cm = confusion_matrix(val_y,y_pred)\n",
        "print(cm)\n",
        "\n",
        "fig, ax = plt.subplots()\n",
        "\n",
        "ax.scatter(range(0,len(val_y)),val_y) # bigger blue dots\n",
        "ax.scatter(range(0,len(y_pred)),y_pred, s=5) # smaller orange dots\n",
        "\n",
        "ax.set(yticks = [2, 4])"
      ],
      "metadata": {
        "colab": {
          "base_uri": "https://localhost:8080/",
          "height": 499
        },
        "id": "k5fpSQJY-r0V",
        "outputId": "bc581b38-3abd-4ebd-bb03-c7a1d6d63933"
      },
      "execution_count": null,
      "outputs": [
        {
          "output_type": "stream",
          "name": "stdout",
          "text": [
            "[[174   4]\n",
            " [  1  95]]\n"
          ]
        },
        {
          "output_type": "execute_result",
          "data": {
            "text/plain": [
              "[[<matplotlib.axis.YTick at 0x7f03828f2d40>,\n",
              "  <matplotlib.axis.YTick at 0x7f0382962170>]]"
            ]
          },
          "metadata": {},
          "execution_count": 79
        },
        {
          "output_type": "display_data",
          "data": {
            "text/plain": [
              "<Figure size 640x480 with 1 Axes>"
            ],
            "image/png": "[encoded data removed]"
          },
          "metadata": {}
        }
      ]
    }
  ]
}